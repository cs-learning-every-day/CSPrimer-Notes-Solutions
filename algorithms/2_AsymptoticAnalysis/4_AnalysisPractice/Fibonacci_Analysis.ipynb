{
 "cells": [
  {
   "cell_type": "markdown",
   "id": "dbd16c98-95fa-481e-b3ca-4e9a1a57980e",
   "metadata": {},
   "source": [
    "## Fibonacci Sequence Analysis\n",
    "- The upper bound on the fibonacci sequence computed recursively is O(n^2)\n",
    "  -  B/c when you compute some f(n), you have to compute f(n-1) + f(n-2) and all the calls that go along with these\n",
    "- But there is a tighter bound"
   ]
  },
  {
   "cell_type": "code",
   "execution_count": 18,
   "id": "7d7c8728-fcc6-4644-9808-f0e1dc2e6e09",
   "metadata": {},
   "outputs": [],
   "source": [
    "import matplotlib.pyplot as plt\n",
    "from functools import lru_cache"
   ]
  },
  {
   "cell_type": "code",
   "execution_count": 15,
   "id": "39730ba2-d311-497f-9920-a4a77cc66ff8",
   "metadata": {},
   "outputs": [],
   "source": [
    "@lru_cache\n",
    "def fib(n: int ) -> int:\n",
    "    if n <= 1:\n",
    "        return n\n",
    "    return fib(n-1) + fib(n-2)\n",
    "\n",
    "assert fib(2) == 1\n",
    "assert fib(3) == 2\n",
    "assert fib(4) == 3\n",
    "assert fib(5) == 5\n",
    "assert fib(6) == 8"
   ]
  },
  {
   "cell_type": "code",
   "execution_count": 16,
   "id": "e7b9027b-4d55-4be6-9a9d-1b02880585be",
   "metadata": {},
   "outputs": [],
   "source": [
    "@lru_cache\n",
    "def fib_calls(n: int) -> int:\n",
    "    if n <= 1:\n",
    "        return 1\n",
    "    return 1 + fib_calls(n-1) + fib_calls(n-2)\n",
    "\n",
    "assert fib_calls(0) == 1\n",
    "assert fib_calls(1) == 1\n",
    "assert fib_calls(2) == 3\n",
    "assert fib_calls(3) == 5\n",
    "assert fib_calls(4) == 9\n"
   ]
  },
  {
   "cell_type": "code",
   "execution_count": 29,
   "id": "8d06174a-ef9b-4b46-87b8-d0dc2f6e3e76",
   "metadata": {},
   "outputs": [],
   "source": [
    "import numpy as np"
   ]
  },
  {
   "cell_type": "code",
   "execution_count": 58,
   "id": "be3affaa-c02e-456e-b19c-c1cca862b82c",
   "metadata": {},
   "outputs": [
    {
     "name": "stderr",
     "output_type": "stream",
     "text": [
      "/var/folders/yz/l3f58wps1kvc2f_9y3kkrrvr0000gn/T/ipykernel_58748/2854680483.py:5: RuntimeWarning: divide by zero encountered in log2\n",
      "  O_nlogn = [i*np.log2(i) for i in RANGE]\n",
      "/var/folders/yz/l3f58wps1kvc2f_9y3kkrrvr0000gn/T/ipykernel_58748/2854680483.py:5: RuntimeWarning: invalid value encountered in scalar multiply\n",
      "  O_nlogn = [i*np.log2(i) for i in RANGE]\n"
     ]
    },
    {
     "data": {
      "text/plain": [
       "<matplotlib.legend.Legend at 0x13715ba50>"
      ]
     },
     "execution_count": 58,
     "metadata": {},
     "output_type": "execute_result"
    },
    {
     "data": {
      "image/png": "[encoded data removed]",
      "text/plain": [
       "<Figure size 640x480 with 1 Axes>"
      ]
     },
     "metadata": {},
     "output_type": "display_data"
    }
   ],
   "source": [
    "RANGE = list(range(1000))\n",
    "O_fib_calls = [fib_calls(i) for i in RANGE]\n",
    "O_2n = [2**i for i in RANGE]\n",
    "\n",
    "O_nlogn = [i*np.log2(i) for i in RANGE]\n",
    "O_approx = [2**(i*0.70) for i in RANGE]\n",
    "\n",
    "fib, ax = plt.subplots(1,1)\n",
    "ax.plot(O_fib_calls, color='red', label=\"Fib\")\n",
    "ax.plot(O_approx, color='orange', label='O(Approx)')\n",
    "#ax.plot(O_2n, color='blue', label='O(2^n)')\n",
    "ax.plot(O_nlogn, color='green', label='O(nlogn)')\n",
    "fib.legend()"
   ]
  },
  {
   "cell_type": "code",
   "execution_count": null,
   "id": "cefdfa32-916a-4f03-86d0-e5b4e21834ea",
   "metadata": {},
   "outputs": [],
   "source": []
  }
 ],
 "metadata": {
  "kernelspec": {
   "display_name": "Python 3 (ipykernel)",
   "language": "python",
   "name": "python3"
  },
  "language_info": {
   "codemirror_mode": {
    "name": "ipython",
    "version": 3
   },
   "file_extension": ".py",
   "mimetype": "text/x-python",
   "name": "python",
   "nbconvert_exporter": "python",
   "pygments_lexer": "ipython3",
   "version": "3.11.4"
  }
 },
 "nbformat": 4,
 "nbformat_minor": 5
}
